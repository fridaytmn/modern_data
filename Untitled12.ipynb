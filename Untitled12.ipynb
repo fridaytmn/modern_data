{
 "cells": [
  {
   "cell_type": "code",
   "execution_count": 1,
   "id": "dfd5cd96-55b4-4181-8b4b-dc92e021857e",
   "metadata": {},
   "outputs": [
    {
     "name": "stdout",
     "output_type": "stream",
     "text": [
      "Collecting duckdb\n",
      "  Downloading duckdb-0.8.1-cp310-cp310-manylinux_2_17_x86_64.manylinux2014_x86_64.whl (15.9 MB)\n",
      "\u001b[2K     \u001b[38;2;114;156;31m━━━━━━━━━━━━━━━━━━━━━━━━━━━━━━━━━━━━━━━━\u001b[0m \u001b[32m15.9/15.9 MB\u001b[0m \u001b[31m10.4 MB/s\u001b[0m eta \u001b[36m0:00:00\u001b[0mm eta \u001b[36m0:00:01\u001b[0m0:01\u001b[0m:01\u001b[0m\n",
      "\u001b[?25hInstalling collected packages: duckdb\n",
      "Successfully installed duckdb-0.8.1\n"
     ]
    }
   ],
   "source": [
    "!pip install duckdb"
   ]
  },
  {
   "cell_type": "code",
   "execution_count": 2,
   "id": "2a2109c8-abc8-4128-a249-219c1bf6d55a",
   "metadata": {},
   "outputs": [],
   "source": [
    "import duckdb\n",
    "from time import time"
   ]
  },
  {
   "cell_type": "code",
   "execution_count": 3,
   "id": "c7494b0d-38b1-4fbd-974d-1ca86d2ac317",
   "metadata": {},
   "outputs": [],
   "source": [
    "con = duckdb.connect(database=\"file.db\", read_only=False)"
   ]
  },
  {
   "cell_type": "code",
   "execution_count": 4,
   "id": "049d19df-9d79-4f88-a6b4-cacd0fcb6842",
   "metadata": {},
   "outputs": [
    {
     "name": "stdout",
     "output_type": "stream",
     "text": [
      "docker-compose.yml  file.db.wal       output.parquet    Untitled12.ipynb  \u001b[0m\u001b[01;34mvenv\u001b[0m/\n",
      "file.db             \u001b[01;34mny_taxi_pg_data\u001b[0m/  requirements.txt  Untitled.ipynb\n"
     ]
    }
   ],
   "source": [
    "ls"
   ]
  },
  {
   "cell_type": "code",
   "execution_count": 6,
   "id": "c9ac79f9-93a1-450c-ad90-8bab2d4f0c81",
   "metadata": {},
   "outputs": [
    {
     "data": {
      "application/vnd.jupyter.widget-view+json": {
       "model_id": "7be0589d9e6b4ac8bf7c1f23586243e0",
       "version_major": 2,
       "version_minor": 0
      },
      "text/plain": [
       "FloatProgress(value=0.0, layout=Layout(width='auto'), style=ProgressStyle(bar_color='black'))"
      ]
     },
     "metadata": {},
     "output_type": "display_data"
    },
    {
     "name": "stdout",
     "output_type": "stream",
     "text": [
      "4.504494667053223\n"
     ]
    }
   ],
   "source": [
    "t_start = time()\n",
    "con.sql(\"CREATE TABLE test_2 AS SELECT * FROM 'output.parquet'\")\n",
    "t_end = time()\n",
    "print(t_end - t_start)"
   ]
  },
  {
   "cell_type": "code",
   "execution_count": 8,
   "id": "7654d331-8064-413f-8f05-41f930541be5",
   "metadata": {},
   "outputs": [
    {
     "name": "stdout",
     "output_type": "stream",
     "text": [
      "┌──────────┬──────────────────────┬──────────────────────┬───┬──────────────┬──────────────────────┬─────────────┐\n",
      "│ VendorID │ tpep_pickup_datetime │ tpep_dropoff_datet…  │ … │ total_amount │ congestion_surcharge │ Airport_fee │\n",
      "│  int32   │      timestamp       │      timestamp       │   │    double    │        double        │   double    │\n",
      "├──────────┼──────────────────────┼──────────────────────┼───┼──────────────┼──────────────────────┼─────────────┤\n",
      "│        1 │ 2023-06-01 00:08:48  │ 2023-06-01 00:29:41  │ … │         33.6 │                  2.5 │         0.0 │\n",
      "│        1 │ 2023-06-01 00:15:04  │ 2023-06-01 00:25:18  │ … │         23.6 │                  2.5 │         0.0 │\n",
      "│        1 │ 2023-06-01 00:48:24  │ 2023-06-01 01:07:07  │ … │        60.05 │                  0.0 │        1.75 │\n",
      "│        2 │ 2023-06-01 00:54:03  │ 2023-06-01 01:17:29  │ … │        53.28 │                  2.5 │         0.0 │\n",
      "│        2 │ 2023-06-01 00:18:44  │ 2023-06-01 00:27:18  │ … │        15.02 │                  2.5 │         0.0 │\n",
      "│        1 │ 2023-06-01 00:32:36  │ 2023-06-01 00:45:52  │ … │        28.05 │                  2.5 │         0.0 │\n",
      "│        2 │ 2023-06-01 00:31:55  │ 2023-06-01 00:50:51  │ … │         26.8 │                  2.5 │         0.0 │\n",
      "│        1 │ 2023-06-01 00:55:30  │ 2023-06-01 01:04:17  │ … │         18.0 │                  2.5 │         0.0 │\n",
      "│        2 │ 2023-06-01 00:11:50  │ 2023-06-01 00:15:47  │ … │        13.22 │                  2.5 │         0.0 │\n",
      "│        2 │ 2023-06-01 00:25:03  │ 2023-06-01 00:27:54  │ … │         10.1 │                  2.5 │         0.0 │\n",
      "│        · │          ·           │          ·           │ · │           ·  │                   ·  │          ·  │\n",
      "│        · │          ·           │          ·           │ · │           ·  │                   ·  │          ·  │\n",
      "│        · │          ·           │          ·           │ · │           ·  │                   ·  │          ·  │\n",
      "│        2 │ 2023-06-01 07:36:25  │ 2023-06-01 07:45:52  │ … │        17.64 │                  2.5 │         0.0 │\n",
      "│        2 │ 2023-06-01 07:40:12  │ 2023-06-01 08:59:33  │ … │       106.46 │                  2.5 │        1.75 │\n",
      "│        1 │ 2023-06-01 07:21:37  │ 2023-06-01 07:28:59  │ … │         15.1 │                  2.5 │         0.0 │\n",
      "│        1 │ 2023-06-01 07:41:03  │ 2023-06-01 07:52:09  │ … │         16.8 │                  2.5 │         0.0 │\n",
      "│        1 │ 2023-06-01 07:52:21  │ 2023-06-01 07:58:44  │ … │        12.32 │                  2.5 │         0.0 │\n",
      "│        1 │ 2023-06-01 07:39:54  │ 2023-06-01 08:08:59  │ … │        96.35 │                  0.0 │         0.0 │\n",
      "│        2 │ 2023-06-01 07:21:39  │ 2023-06-01 07:32:59  │ … │        20.65 │                  2.5 │         0.0 │\n",
      "│        2 │ 2023-06-01 07:38:29  │ 2023-06-01 07:45:01  │ … │        13.09 │                  2.5 │         0.0 │\n",
      "│        2 │ 2023-06-01 07:47:15  │ 2023-06-01 08:08:43  │ … │         23.8 │                  2.5 │         0.0 │\n",
      "│        2 │ 2023-06-01 07:38:59  │ 2023-06-01 07:59:15  │ … │         23.1 │                  2.5 │         0.0 │\n",
      "├──────────┴──────────────────────┴──────────────────────┴───┴──────────────┴──────────────────────┴─────────────┤\n",
      "│ ? rows (>9999 rows, 20 shown)                                                             19 columns (6 shown) │\n",
      "└────────────────────────────────────────────────────────────────────────────────────────────────────────────────┘\n",
      "\n"
     ]
    }
   ],
   "source": [
    "con.table('test_2').show()"
   ]
  },
  {
   "cell_type": "code",
   "execution_count": null,
   "id": "125fdbbc-7430-478c-a572-8c4c26fb97d2",
   "metadata": {},
   "outputs": [],
   "source": []
  }
 ],
 "metadata": {
  "kernelspec": {
   "display_name": "Python 3 (ipykernel)",
   "language": "python",
   "name": "python3"
  },
  "language_info": {
   "codemirror_mode": {
    "name": "ipython",
    "version": 3
   },
   "file_extension": ".py",
   "mimetype": "text/x-python",
   "name": "python",
   "nbconvert_exporter": "python",
   "pygments_lexer": "ipython3",
   "version": "3.10.12"
  }
 },
 "nbformat": 4,
 "nbformat_minor": 5
}
